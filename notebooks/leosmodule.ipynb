{
 "cells": [
  {
   "cell_type": "markdown",
   "id": "8b4922dd-bbb6-43b4-a574-fac2ec47437b",
   "metadata": {},
   "source": [
    "___\n",
    "___\n",
    "# Introduction\n",
    "\n",
    "Step by Step guide <br>\n",
    "\n",
    "Data is normalized by [Median of Ratios method](https://scienceparkstudygroup.github.io/research-data-management-lesson/median_of_ratios_manual_normalization/index.html) \n",
    "\n",
    "<details><summary><span style=\"font-weight: bold;\">Click for information about the Anndata File Format (.h5ad)</span></summary><br>\n",
    "A .h5ad file contains at least 3 tables: <br>\n",
    "<span style=\"font-weight: bold;\">X</span> = data table which contains values like read counts of genes <br>\n",
    "<span style=\"font-weight: bold;\">var</span> = variables table which contains additional information of the genes like synonyms (same length as number of genes) <br>\n",
    "<span style=\"font-weight: bold;\">obs</span> = observations table which contains additional informations of the samples like cell_type, donor, ... (same length as number of samples) <br><br>\n",
    "    <span style=\"font-weight: bold;\">X</span> can contain different layer of data tables like raw reads, normalized reads, log-transformed reads, ...<br>\n",
    "    \n",
    "Anndata file provides faster performance and easy ways to select subsets (like only B cells). <br>\n",
    "The data is stored as sparse csr matrix to reduce file size by not saving 0 values which often occur in single-cell RNA data. <br>\n",
    "More infos can be found on the <a href=\"https://anndata.readthedocs.io/en/latest/index.html\" target=\"_blank\">anndata website</a>\n",
    "![Alt text](https://raw.githubusercontent.com/scverse/anndata/main/docs/_static/img/anndata_schema.svg)\n",
    "<br>\n",
    "\n",
    "| Gene_Synonym | Gene_Name | New_Gene_Synonym | New_Gene_Name |\n",
    "| :-: | :-: | :-: | :-: |\n",
    "|  | CGB3 |  |  |\n",
    "| variant | HLA-C |  |  |\n",
    "| 3 | TNFSF11 |  |  |\n",
    "| fusion | RET | PTC | RET |\n",
    "| gamma | PPARG | NR1C3 | PPARG |\n",
    "| mannose | IGF2R | mannose-6-phosphate | IGF2R |\n",
    "| 6-phosphate | IGF2R |  |  |\n",
    "| beta- | B2M | beta-2-microglobulin | B2M |\n",
    "| 2-microglobulin | B2M |  |  |\n",
    "| estrogen | ESR1 | estrogen receptor | ESR1 |\n",
    "| receptor | ESR1 |  |  |\n",
    "\n",
    "<br>\n",
    "</details>"
   ]
  },
  {
   "cell_type": "code",
   "execution_count": null,
   "id": "38e26f45-acd4-4324-ba1b-0b780cc2cbdc",
   "metadata": {},
   "outputs": [],
   "source": [
    "add_one(24)"
   ]
  },
  {
   "cell_type": "code",
   "execution_count": null,
   "id": "9a507b26-b857-4d9d-b9a9-d0e25df3aa23",
   "metadata": {},
   "outputs": [],
   "source": [
    "text = \"Karneval\"\n",
    "string_to_list(text)"
   ]
  },
  {
   "cell_type": "code",
   "execution_count": null,
   "id": "6eefd5cb-3017-48cf-95e9-135960d9f63a",
   "metadata": {},
   "outputs": [],
   "source": []
  }
 ],
 "metadata": {
  "kernelspec": {
   "display_name": "cipaid_env_1_11",
   "language": "python",
   "name": "cipaid_env_1_11"
  },
  "language_info": {
   "codemirror_mode": {
    "name": "ipython",
    "version": 3
   },
   "file_extension": ".py",
   "mimetype": "text/x-python",
   "name": "python",
   "nbconvert_exporter": "python",
   "pygments_lexer": "ipython3",
   "version": "3.11.9"
  }
 },
 "nbformat": 4,
 "nbformat_minor": 5
}
